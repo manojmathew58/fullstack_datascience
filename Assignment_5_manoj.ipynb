{
  "metadata": {
    "language_info": {
      "name": ""
    },
    "kernelspec": {
      "name": "",
      "display_name": ""
    }
  },
  "nbformat_minor": 4,
  "nbformat": 4,
  "cells": [
    {
      "cell_type": "code",
      "source": "What does an empty dictionary's code look like?\nAns: {}\n2. What is the value of a dictionary value with the key 'foo' and the value 42?\nAns:{'foo': 42}\n3. What is the most significant distinction between a dictionary and a list?\nAns:The items in a list are ordered items, while the items stored in a dictionary are unordered\n4. What happens if you try to access spam['foo'] if spam is {'bar': 100}?\nAns:We will get a KeyError error.\n5. If a dictionary is stored in spam, what is the difference between the expressions 'cat' in spam and 'cat' in spam.keys()?\nAns:There is no difference\n6. If a dictionary is stored in spam, what is the difference between the expressions 'cat' in spam and 'cat' in spam.values()?\nAns:'cat' in spam checks whether there is a 'cat' key in the dictionary, while 'cat' in spam.values() checks whether there is a value 'cat' for one of the keys in spam.\n7. What is a shortcut for the following code?\nif 'color' not in spam:\nspam['color'] = 'black'\nAns:spam.setdefault('color', 'black')\n8. How do you \"pretty print\" dictionary values using which module and function?\nAns:pprint.pprint()\n",
      "metadata": {},
      "execution_count": null,
      "outputs": []
    }
  ]
}
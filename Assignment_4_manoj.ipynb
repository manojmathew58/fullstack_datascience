{
  "metadata": {
    "language_info": {
      "name": ""
    },
    "kernelspec": {
      "name": "",
      "display_name": ""
    }
  },
  "nbformat_minor": 4,
  "nbformat": 4,
  "cells": [
    {
      "cell_type": "code",
      "source": "1. What exactly is []?\nAns:The empty list value, which is a list value that contains no items.\n2. In a list of values stored in a variable called spam, how would you assign the value 'hello' as the third value? (Assume [2, 4, 6, 8, 10] are in spam.)\nAns:spam[2] = 'hello'\nLet's pretend the spam includes the list ['a', 'b', 'c', 'd'] for the next three queries.\n3. What is the value of spam[int(int('3' * 2) / 11)]?\nAns:'d'\n4. What is the value of spam[-1]?\nAns:'d'\n5. What is the value of spam[:2]?\nAns:['a', 'b']\nLet's pretend bacon has the list [3.14, 'cat,' 11, 'cat,' True] for the next three questions.\n6. What is the value of bacon.index('cat')?\nAns:1\n7. How does bacon.append(99) change the look of the list value in bacon?\nAn:[3.14, 'cat', 11, 'cat', True, 99]\n8. How does bacon.remove('cat') change the look of the list in bacon?\nAns:[3.14, 11, 'cat', True, 99]\n9. What are the list concatenation and list replication operators?\nAns:The operator for list concatenation is +, while the operator for replication is *.\n10. What is difference between the list methods append() and insert()?\nAns:While append() will add values only to the end of a list, insert() can add them anywhere in the list.\n11. What are the two methods for removing items from a list?\nAns:The del statement and the remove() list method are two ways to remove values from a list.\n12. Describe how list values and string values are identical.\nAns:Both lists and strings can be passed to len(), have indexes and slices, be used in for loops, be concatenated or replicated, and be used with the in and not in operators.\n13. What's the difference between tuples and lists?\nAns:Lists are mutable; they can have values added, removed, or changed. Tuples are immutable; they cannot be changed at all\n14. How do you type a tuple value that only contains the integer 42?\nAns:(42)\n15. How do you get a list value's tuple form? How do you get a tuple value's list form?\nAns:The tuple() and list() functions, respectively\n16. Variables that \"contain\" list values are not necessarily lists themselves. Instead, what do they contain?\nAns:They contain references to list values.\n17. How do you distinguish between copy.copy() and copy.deepcopy()?\nAns:The copy.copy() function will do a shallow copy of a list, while the copy.deepcopy() function will do a deep copy of a list.\n",
      "metadata": {},
      "execution_count": null,
      "outputs": []
    }
  ]
}
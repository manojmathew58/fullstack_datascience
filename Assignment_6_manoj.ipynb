{
  "metadata": {
    "language_info": {
      "name": ""
    },
    "kernelspec": {
      "name": "",
      "display_name": ""
    }
  },
  "nbformat_minor": 4,
  "nbformat": 4,
  "cells": [
    {
      "cell_type": "code",
      "source": "1.What are escape characters, and how do you use them?\nAns:Escape characters represent characters in string values that would otherwise be difficult or impossible to type into code. The escape character allows yus to use double quotes when you normally would not be allowed.\n2. What do the escape characters n and t stand for?\nAns:The escape characters n and t stand for newline and tab respectively. \\n is a newline; \\t is a tab\n3. What is the way to include backslash characters in a string?\nAns:The \\ escape character will represent a backslash character.\n4. The string \"Howl's Moving Castle\" is a correct value. Why isn't the single quote character in the word Howl's not escaped a problem?\nAns:The single quote in Howl's is fine because we have used double quotes to mark the beginning and end of the string.\n5. How do you write a string of newlines if you don't want to use the n character?\nAns:Multiline strings allow us to use newlines in strings without the \\n escape character\n6. What are the values of the given expressions?\n'Hello, world!'[1]    :'e'\n'Hello, world!'[0:5]  :'Hello'\n'Hello, world!'[:5]   :'Hello'\n'Hello, world!'[3:]   :'lo, world!'\n\n\n7. What are the values of the following expressions?\n'Hello'.upper()          :'HELLO'\n'Hello'.upper().isupper() :True\n'Hello'.upper().lower()   :'hello'\n8. What are the values of the following expressions?\n'Remember, remember, the fifth of July.'.split()  :['Remember,', 'remember,', 'the', 'fifth', 'of', 'July.']\n'-'.join('There can only one.'.split())           :'There-can-only-one.'\n9. What are the methods for right-justifying, left-justifying, and centering a string?\nAns:The rjust(), ljust(), and center() string methods, respectively are the methods for right-justifying, left-justifying, and centering a string\n10. What is the best way to remove whitespace characters from the start or end?\nAns:The lstrip() and rstrip() methods remove whitespace from the left and right ends of a string, respectively.\n",
      "metadata": {},
      "execution_count": null,
      "outputs": []
    }
  ]
}
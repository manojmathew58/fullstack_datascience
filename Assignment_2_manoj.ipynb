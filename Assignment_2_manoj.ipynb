{
 "cells": [
  {
   "cell_type": "code",
   "execution_count": null,
   "id": "f62a487f",
   "metadata": {},
   "outputs": [],
   "source": [
    "#1.What are the two values of the Boolean data type? How do you write them?\n",
    "  True and False\n",
    "  print(2 > 1)\n",
    "  print(2==1)\n"
   ]
  },
  {
   "cell_type": "code",
   "execution_count": null,
   "id": "055812a1",
   "metadata": {},
   "outputs": [],
   "source": [
    "#What are the three different types of Boolean operators\n",
    "Ans:AND,OR,NOT\n"
   ]
  },
  {
   "cell_type": "code",
   "execution_count": null,
   "id": "9c538323",
   "metadata": {},
   "outputs": [],
   "source": [
    "# Make a list of each Boolean operator's truth tables (i.e. every possible combination of Boolean values for the operator and what it evaluate ).\n",
    "\n",
    "True or True = True\n",
    "True or False = True\n",
    "False or True = True\n",
    "False or False = False\n",
    "True and True = True\n",
    "True and False = False\n",
    "False and True = False\n",
    "False and False = False\n",
    "not(True) = False\n",
    "not(False) = True"
   ]
  },
  {
   "cell_type": "code",
   "execution_count": null,
   "id": "4d648a1a",
   "metadata": {},
   "outputs": [],
   "source": [
    "#What are the values of the following expressions?\n",
    "\n",
    "1.(5 > 4) and (3 == 5) = False\n",
    "2.not (5 > 4)=False\n",
    "3.(5 > 4) or (3 == 5)=True\n",
    "4.not ((5 > 4) or (3 == 5))=False\n",
    "5.(True and True) and (True == False)=False\n",
    "6.(not False) or (not True)=True"
   ]
  },
  {
   "cell_type": "code",
   "execution_count": null,
   "id": "6c3e0474",
   "metadata": {},
   "outputs": [],
   "source": [
    "#What are the six comparison operators?\n",
    "1.equal to '=='\n",
    "2.not equal to '!='\n",
    "3.greater than '>'\n",
    "4.less than '<'\n",
    "5.greater than equal to '>='\n",
    "6.less than equal to '<='"
   ]
  },
  {
   "cell_type": "code",
   "execution_count": null,
   "id": "344c7f03",
   "metadata": {},
   "outputs": [],
   "source": [
    "#How do you tell the difference between the equal to and assignment operators?Describe a condition and when you would use one?\n",
    "\n",
    "The equal t0 \"==\" opertor is used to compare two values and assignment operator '=' is used to assign a value to a variable.\n",
    "\n",
    "condition:\n",
    "a=10  #assign value 10 to variable a\n",
    "b=20  #assign value 20 to variable b\n",
    "if a==b:   #compare values of a and b using equal to operator\n",
    "    print(\"Values are same for a & b\")\n",
    "else:\n",
    "    print(\"Values of a and b are different\")"
   ]
  },
  {
   "cell_type": "code",
   "execution_count": 14,
   "id": "7e9f70d0",
   "metadata": {},
   "outputs": [
    {
     "name": "stdout",
     "output_type": "stream",
     "text": [
      "ham\n",
      "spam\n",
      "spam\n"
     ]
    }
   ],
   "source": [
    "#Identify the three blocks in this code:\n",
    "spam = 0          #1st block\n",
    "if spam == 10:    #2nd block\n",
    "    print('eggs')\n",
    "if spam > 5:      #3rd block\n",
    "    print('bacon')\n",
    "else:\n",
    "    print('ham')\n",
    "    print('spam')\n",
    "    print('spam')"
   ]
  },
  {
   "cell_type": "code",
   "execution_count": 18,
   "id": "8691b59f",
   "metadata": {},
   "outputs": [
    {
     "name": "stdout",
     "output_type": "stream",
     "text": [
      "Enter the string5\n",
      "Greetings!\n"
     ]
    }
   ],
   "source": [
    "#Write code that prints Hello if 1 is stored in spam, prints Howdy if 2 is stored in spam, and prints Greetings! if anything elseis stored in spam.\n",
    "spam=int(input(\"Enter the string\"))\n",
    "if spam==1 :\n",
    "    print(\"Hello\")\n",
    "elif spam==2 :\n",
    "    print(\"Howdy\")\n",
    "else :\n",
    "    print(\"Greetings!\")"
   ]
  },
  {
   "cell_type": "code",
   "execution_count": 19,
   "id": "d2e31cf7",
   "metadata": {},
   "outputs": [
    {
     "data": {
      "text/plain": [
       "range(0, 10)"
      ]
     },
     "execution_count": 19,
     "metadata": {},
     "output_type": "execute_result"
    }
   ],
   "source": [
    "range(10)"
   ]
  },
  {
   "cell_type": "code",
   "execution_count": null,
   "id": "112bf5bb",
   "metadata": {},
   "outputs": [],
   "source": [
    "#If your programme is stuck in an endless loop, what keys you’ll press?\n",
    "ctrl+c"
   ]
  },
  {
   "cell_type": "code",
   "execution_count": null,
   "id": "f9025cb5",
   "metadata": {},
   "outputs": [],
   "source": [
    "#How can you tell the difference between break and continue?\n",
    "\n",
    "Break will exits execution of remaining iteration of loop\n",
    "\n",
    "The continue will skip the  current iteration of loop and jump to next iteration\n"
   ]
  },
  {
   "cell_type": "code",
   "execution_count": null,
   "id": "ffba1636",
   "metadata": {},
   "outputs": [],
   "source": [
    "#In a for loop, what is the difference between range(10), range(0, 10), and range(0, 10, 1)?\n",
    "range(10) - This will  create a dataset 0 to 10 implicitly\n",
    "range(0,10) - same data set from0 to 10 .Here the range is explicitly mentioned\n",
    "range(0,10,1) -same data set from 0 to 10.Here mentioning the incremetal step as 1"
   ]
  },
  {
   "cell_type": "code",
   "execution_count": null,
   "id": "80fc60a4",
   "metadata": {},
   "outputs": [],
   "source": [
    "#Write a short program that prints the numbers 1 to 10 using a for loop. Then write an equivalent program that prints the numbers 1 to 10 using a while loop.\n",
    "\n",
    "#for Loop\n",
    "for i in range(1,11):\n",
    "        print(i)\n",
    "#While Loop\n",
    "v_cnt=1\n",
    "while(v_cnt<=10):\n",
    "    print(v_cnt)\n",
    "    v_cnt+=1"
   ]
  },
  {
   "cell_type": "code",
   "execution_count": null,
   "id": "c59c3551",
   "metadata": {},
   "outputs": [],
   "source": [
    "#If you had a function named bacon() inside a module named spam, how would you call it after importing spam?\n",
    "import spam\n",
    "a=spam.bacon()"
   ]
  }
 ],
 "metadata": {
  "kernelspec": {
   "display_name": "Python 3 (ipykernel)",
   "language": "python",
   "name": "python3"
  },
  "language_info": {
   "codemirror_mode": {
    "name": "ipython",
    "version": 3
   },
   "file_extension": ".py",
   "mimetype": "text/x-python",
   "name": "python",
   "nbconvert_exporter": "python",
   "pygments_lexer": "ipython3",
   "version": "3.9.7"
  }
 },
 "nbformat": 4,
 "nbformat_minor": 5
}
